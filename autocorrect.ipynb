{
 "cells": [
  {
   "cell_type": "code",
   "execution_count": null,
   "metadata": {},
   "outputs": [],
   "source": [
    "import json\n",
    "import warnings\n",
    "warnings.filterwarnings(action='ignore', category=UserWarning, module='gensim')"
   ]
  },
  {
   "cell_type": "code",
   "execution_count": null,
   "metadata": {},
   "outputs": [],
   "source": [
    "subreddits = ['depression', 'Anxiety', 'foreveralone', 'socialanxiety', 'SuicideWatch', \n",
    "                    'berkeley', 'PowerLedger', 'TalesFromYourServer', 'tifu']\n",
    "total = []\n",
    "temp = []\n",
    "for subreddit in subreddits:\n",
    "    with open('datasets/'+subreddit+'_text_samples_extended.json') as f:\n",
    "        print('opening' + 'datasets/'+subreddit+'_text_samples_extended.json')\n",
    "        data = json.load(f)\n",
    "    \n",
    "    for x in range(0, len(data['data'])):\n",
    "        if x % 100 == 0:\n",
    "            print(x)\n",
    "        if 'selftext' in data['data'][x]:\n",
    "            temp = data.get('data')[x].get('selftext').split()\n",
    "            for x in range(len(temp)):\n",
    "                temp[x] = spell(temp[x])\n",
    "            new = ' '.join(temp)\n",
    "            total.append(gensim.utils.simple_preprocess(new))"
   ]
  }
 ],
 "metadata": {
  "kernelspec": {
   "display_name": "Python 3",
   "language": "python",
   "name": "python3"
  },
  "language_info": {
   "codemirror_mode": {
    "name": "ipython",
    "version": 3
   },
   "file_extension": ".py",
   "mimetype": "text/x-python",
   "name": "python",
   "nbconvert_exporter": "python",
   "pygments_lexer": "ipython3",
   "version": "3.6.5"
  }
 },
 "nbformat": 4,
 "nbformat_minor": 2
}
